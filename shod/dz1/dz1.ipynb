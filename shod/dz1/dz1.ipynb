{
 "cells": [
  {
   "cell_type": "markdown",
   "source": [
    "### Задание 1-2\n",
    "\n",
    "Нормализация (1НФ → 3НФ)\n",
    "Перевод в 1НФ (удаляем повторяющиеся записи, создаём уникальные идентификаторы)\n",
    "\n",
    "Данные уже находятся в 1НФ.\n",
    "Перевод во 2НФ (удаляем частичные зависимости от составных ключей)\n",
    "\n",
    "Разделение Products позволяет избежать дублирования информации о товарах в Transactions.\n",
    "Перевод в 3НФ (удаляем зависимости)\n",
    "\n",
    "Вынесение Addresses из Customers избавляет от дублирования адресов.\n",
    "\n",
    "![Схема базы данных](db_schema.png)"
   ],
   "metadata": {
    "collapsed": false
   },
   "id": "77ffca3b81bec7d7"
  },
  {
   "cell_type": "markdown",
   "source": [
    "### Задание 3\n",
    "\n",
    "Код создания таблиц:\n",
    "```\n",
    "CREATE TABLE IF NOT EXISTS Customers (\n",
    "    customer_id INT PRIMARY KEY,\n",
    "    first_name VARCHAR(100),\n",
    "    last_name VARCHAR(100),\n",
    "    gender VARCHAR(10),\n",
    "    DOB DATE,\n",
    "    job_title VARCHAR(255),\n",
    "    job_industry_category VARCHAR(255),\n",
    "    wealth_segment VARCHAR(50),\n",
    "    deceased_indicator CHAR(1),\n",
    "    owns_car VARCHAR(10),\n",
    "    property_valuation INT\n",
    ");\n",
    "\n",
    "CREATE TABLE IF NOT EXISTS Addresses (\n",
    "    address_id SERIAL PRIMARY KEY,\n",
    "    customer_id INT REFERENCES Customers(customer_id),\n",
    "    address VARCHAR(255),\n",
    "    postcode VARCHAR(10),\n",
    "    state VARCHAR(50),\n",
    "    country VARCHAR(50)\n",
    ");\n",
    "\n",
    "CREATE TABLE IF NOT EXISTS Products (\n",
    "    product_id INT PRIMARY KEY,\n",
    "    brand VARCHAR(100),\n",
    "    product_line VARCHAR(100),\n",
    "    product_class VARCHAR(50),\n",
    "    product_size VARCHAR(50),\n",
    "    list_price DECIMAL(10,2),\n",
    "    standard_cost DECIMAL(10,2)\n",
    ");\n",
    "\n",
    "CREATE TABLE IF NOT EXISTS Transactions (\n",
    "    transaction_id INT PRIMARY KEY,\n",
    "    customer_id INT REFERENCES Customers(customer_id),\n",
    "    product_id INT REFERENCES Products(product_id),\n",
    "    transaction_date DATE,\n",
    "    online_order BOOLEAN,\n",
    "    order_status VARCHAR(50)\n",
    ");\n",
    "```\n"
   ],
   "metadata": {
    "collapsed": false
   },
   "id": "d1dedf6570ed17e8"
  },
  {
   "cell_type": "markdown",
   "source": [
    "#### Задание 4"
   ],
   "metadata": {
    "collapsed": false
   },
   "id": "ca83b0b444f2222c"
  },
  {
   "cell_type": "code",
   "execution_count": 12,
   "outputs": [
    {
     "name": "stdout",
     "output_type": "stream",
     "text": [
      "Данные загружены в customers\n",
      "Данные загружены в addresses\n",
      "Данные загружены в products\n",
      "Данные загружены в transactions\n"
     ]
    }
   ],
   "source": [
    "import pandas as pd\n",
    "import psycopg2\n",
    "from psycopg2.extras import execute_values\n",
    "\n",
    "conn = psycopg2.connect(\n",
    "    dbname=\"shod_1\",\n",
    "    user=\"dmp\",\n",
    "    password=\"dmp\",\n",
    "    host=\"localhost\",\n",
    "    port=\"5434\"\n",
    ")\n",
    "cursor = conn.cursor()\n",
    "\n",
    "file_path = \"customer_and_transaction.xlsx\"\n",
    "sheets = pd.read_excel(file_path, sheet_name=None)\n",
    "\n",
    "# Приводим названия колонок к нижнему регистру и убираем пробелы\n",
    "df_customers = sheets[\"customer\"]\n",
    "df_customers.columns = df_customers.columns.str.strip().str.lower()\n",
    "\n",
    "df_transactions = sheets[\"transaction\"]\n",
    "df_transactions.columns = df_transactions.columns.str.strip().str.lower()\n",
    "\n",
    "\n",
    "# Преобразование типов\n",
    "df_customers[\"dob\"] = pd.to_datetime(df_customers[\"dob\"], errors='coerce').dt.date\n",
    "df_customers = df_customers.where(pd.notna(df_customers), None)\n",
    "\n",
    "df_transactions[\"transaction_date\"] = pd.to_datetime(df_transactions[\"transaction_date\"], errors='coerce').dt.date\n",
    "df_transactions = df_transactions.where(pd.notna(df_transactions), None)\n",
    "\n",
    "# 1. Customers\n",
    "df_customers_cleaned = df_customers[[\n",
    "    \"customer_id\", \"first_name\", \"last_name\", \"gender\", \"dob\", \"job_title\",\n",
    "    \"job_industry_category\", \"wealth_segment\", \"deceased_indicator\", \"owns_car\", \"property_valuation\"\n",
    "]].drop_duplicates()\n",
    "\n",
    "# 2. Addresses\n",
    "df_addresses = df_customers[[\"customer_id\", \"address\", \"postcode\", \"state\", \"country\"]].drop_duplicates()\n",
    "\n",
    "# 3. Products\n",
    "df_products = df_transactions[[\n",
    "    \"product_id\", \"brand\", \"product_line\", \"product_class\", \"product_size\", \"list_price\", \"standard_cost\"\n",
    "]].drop_duplicates()\n",
    "\n",
    "# 4. Transactions\n",
    "df_transactions_cleaned = df_transactions[[\n",
    "    \"transaction_id\", \"customer_id\", \"product_id\", \"transaction_date\", \"online_order\", \"order_status\"\n",
    "]]\n",
    "\n",
    "# Фильтрация транзакций по существующим customer_id\n",
    "df_transactions_cleaned = df_transactions_cleaned[\n",
    "    df_transactions_cleaned[\"customer_id\"].isin(df_customers_cleaned[\"customer_id\"])\n",
    "]\n",
    "\n",
    "\n",
    "def insert_data(table_name, dataframe):\n",
    "    \n",
    "    columns = ', '.join(dataframe.columns)\n",
    "    sql = f\"INSERT INTO {table_name} ({columns}) VALUES %s ON CONFLICT DO NOTHING;\"\n",
    "    \n",
    "    execute_values(cursor, sql, dataframe.values.tolist())\n",
    "    conn.commit()\n",
    "    print(f\"Данные загружены в {table_name}\")\n",
    "\n",
    "insert_data(\"customers\", df_customers_cleaned)\n",
    "insert_data(\"addresses\", df_addresses)\n",
    "insert_data(\"products\", df_products)\n",
    "insert_data(\"transactions\", df_transactions_cleaned)\n",
    "\n",
    "cursor.close()\n",
    "conn.close()\n",
    "\n"
   ],
   "metadata": {
    "collapsed": false,
    "ExecuteTime": {
     "end_time": "2025-02-11T19:05:40.546461Z",
     "start_time": "2025-02-11T19:05:36.168579Z"
    }
   },
   "id": "1ba4d60ed3a5551f"
  },
  {
   "cell_type": "code",
   "execution_count": 12,
   "outputs": [],
   "source": [],
   "metadata": {
    "collapsed": false,
    "ExecuteTime": {
     "end_time": "2025-02-11T19:05:40.558860Z",
     "start_time": "2025-02-11T19:05:40.537951Z"
    }
   },
   "id": "f0022bb142796dc"
  }
 ],
 "metadata": {
  "kernelspec": {
   "display_name": "Python 3",
   "language": "python",
   "name": "python3"
  },
  "language_info": {
   "codemirror_mode": {
    "name": "ipython",
    "version": 2
   },
   "file_extension": ".py",
   "mimetype": "text/x-python",
   "name": "python",
   "nbconvert_exporter": "python",
   "pygments_lexer": "ipython2",
   "version": "2.7.6"
  }
 },
 "nbformat": 4,
 "nbformat_minor": 5
}
