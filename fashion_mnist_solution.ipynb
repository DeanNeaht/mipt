{
 "cells": [
  {
   "cell_type": "code",
   "id": "initial_id",
   "metadata": {
    "collapsed": true,
    "ExecuteTime": {
     "end_time": "2025-05-20T18:03:56.236255Z",
     "start_time": "2025-05-20T18:03:55.220174Z"
    }
   },
   "source": [
    "import pandas as pd\n",
    "import matplotlib.pyplot as plt\n",
    "\n",
    "from sklearn.model_selection import train_test_split\n",
    "from sklearn.metrics import accuracy_score\n",
    "\n",
    "import torch\n",
    "import torch.nn as nn\n",
    "import torch.optim as optim\n",
    "from torch.utils.data import Dataset, DataLoader\n",
    "\n",
    "import warnings\n",
    "warnings.filterwarnings('ignore')"
   ],
   "outputs": [],
   "execution_count": 1
  },
  {
   "metadata": {
    "ExecuteTime": {
     "end_time": "2025-05-20T18:03:59.028999Z",
     "start_time": "2025-05-20T18:03:57.128746Z"
    }
   },
   "cell_type": "code",
   "source": [
    "# Загрузка данных\n",
    "train_data = pd.read_csv('data/fmnist_train.csv')\n",
    "test_data = pd.read_csv('data/fmnist_test.csv')\n",
    "sample_submission = pd.read_csv('data/sample_submission.csv')\n"
   ],
   "id": "639a6364c237b638",
   "outputs": [],
   "execution_count": 2
  },
  {
   "metadata": {
    "ExecuteTime": {
     "end_time": "2025-05-20T18:03:59.757848Z",
     "start_time": "2025-05-20T18:03:59.405800Z"
    }
   },
   "cell_type": "code",
   "source": [
    "# Заполнение пропущенных значений\n",
    "if train_data.isnull().sum().sum() > 0:\n",
    "    columns_with_na = train_data.columns[train_data.isnull().any()].tolist()\n",
    "    for col in columns_with_na:\n",
    "        median_value = train_data[col].median()\n",
    "        train_data[col].fillna(median_value, inplace=True)"
   ],
   "id": "d9d0e6233f4cacac",
   "outputs": [],
   "execution_count": 3
  },
  {
   "metadata": {
    "ExecuteTime": {
     "end_time": "2025-05-20T18:03:59.867375Z",
     "start_time": "2025-05-20T18:03:59.863081Z"
    }
   },
   "cell_type": "code",
   "source": [
    "# Функция для визуализации изображений\n",
    "def show_images(data, num_images=5):\n",
    "    if 'label' in data.columns:\n",
    "        labels = data['label'].values\n",
    "        image_data = data.drop(['label', 'Id'], axis=1).values\n",
    "    else:\n",
    "        labels = None\n",
    "        image_data = data.drop(['Id'], axis=1).values\n",
    "\n",
    "    plt.figure(figsize=(15, 3))\n",
    "    for i in range(num_images):\n",
    "        plt.subplot(1, num_images, i+1)\n",
    "        plt.imshow(image_data[i].reshape(28, 28), cmap='gray')\n",
    "        if labels is not None:\n",
    "            class_names = ['T-shirt/top', 'Trouser', 'Pullover', 'Dress', 'Coat',\n",
    "                           'Sandal', 'Shirt', 'Sneaker', 'Bag', 'Ankle boot']\n",
    "            plt.title(f\"{class_names[labels[i]]}\")\n",
    "        plt.axis('off')\n",
    "    plt.tight_layout()\n",
    "    plt.show()"
   ],
   "id": "596a25a39c0e91d1",
   "outputs": [],
   "execution_count": 4
  },
  {
   "metadata": {
    "ExecuteTime": {
     "end_time": "2025-05-20T18:04:00.370834Z",
     "start_time": "2025-05-20T18:03:59.929856Z"
    }
   },
   "cell_type": "code",
   "source": [
    "# Подготовка данных для модели\n",
    "X = train_data.drop(['label', 'Id'], axis=1).values / 255.0\n",
    "y = train_data['label'].values\n",
    "\n",
    "# Разделение на обучающую и валидационную выборки\n",
    "X_train, X_val, y_train, y_val = train_test_split(X, y, test_size=0.2, random_state=42, stratify=y)\n",
    "\n",
    "# Подготовка тестовых данных\n",
    "X_test = test_data.drop(['Id'], axis=1).values / 255.0"
   ],
   "id": "5d9349eb21ce7ea4",
   "outputs": [],
   "execution_count": 5
  },
  {
   "metadata": {
    "ExecuteTime": {
     "end_time": "2025-05-20T18:04:00.484325Z",
     "start_time": "2025-05-20T18:04:00.473205Z"
    }
   },
   "cell_type": "code",
   "source": [
    "# Класс для хранения данных в формате PyTorch\n",
    "class FashionMNISTDataset(Dataset):\n",
    "    def __init__(self, features, labels=None):\n",
    "        self.features = torch.FloatTensor(features)\n",
    "        self.features = self.features.view(-1, 1, 28, 28)\n",
    "        self.labels = labels\n",
    "\n",
    "    def __len__(self):\n",
    "        return len(self.features)\n",
    "\n",
    "    def __getitem__(self, idx):\n",
    "        if self.labels is not None:\n",
    "            return self.features[idx], torch.tensor(self.labels[idx], dtype=torch.long)\n",
    "        else:\n",
    "            return self.features[idx]\n"
   ],
   "id": "34d697620ca8507d",
   "outputs": [],
   "execution_count": 6
  },
  {
   "metadata": {
    "ExecuteTime": {
     "end_time": "2025-05-20T18:04:00.673879Z",
     "start_time": "2025-05-20T18:04:00.609102Z"
    }
   },
   "cell_type": "code",
   "source": [
    "# Создание наборов данных и даталоадеров\n",
    "train_dataset = FashionMNISTDataset(X_train, y_train)\n",
    "val_dataset = FashionMNISTDataset(X_val, y_val)\n",
    "test_dataset = FashionMNISTDataset(X_test)\n",
    "\n",
    "batch_size = 64\n",
    "train_loader = DataLoader(train_dataset, batch_size=batch_size, shuffle=True)\n",
    "val_loader = DataLoader(val_dataset, batch_size=batch_size)\n",
    "test_loader = DataLoader(test_dataset, batch_size=batch_size)"
   ],
   "id": "34c0a82e8eb4994d",
   "outputs": [],
   "execution_count": 7
  },
  {
   "metadata": {
    "ExecuteTime": {
     "end_time": "2025-05-20T18:04:00.726784Z",
     "start_time": "2025-05-20T18:04:00.721215Z"
    }
   },
   "cell_type": "code",
   "source": [
    "# Определение CNN модели\n",
    "class FashionCNN(nn.Module):\n",
    "    def __init__(self):\n",
    "        super(FashionCNN, self).__init__()\n",
    "\n",
    "        # Слои свертки\n",
    "        self.conv1 = nn.Conv2d(in_channels=1, out_channels=32, kernel_size=3, padding=1)\n",
    "        self.conv2 = nn.Conv2d(in_channels=32, out_channels=64, kernel_size=3, padding=1)\n",
    "        self.conv3 = nn.Conv2d(in_channels=64, out_channels=128, kernel_size=3, padding=1)\n",
    "\n",
    "        # Пулинг\n",
    "        self.pool = nn.MaxPool2d(kernel_size=2, stride=2)\n",
    "\n",
    "        # Дропаут для регуляризации\n",
    "        self.dropout = nn.Dropout(0.25)\n",
    "\n",
    "        # Полносвязные слои\n",
    "        self.fc1 = nn.Linear(128 * 3 * 3, 512)\n",
    "        self.fc2 = nn.Linear(512, 10)\n",
    "\n",
    "        # Функция активации\n",
    "        self.relu = nn.ReLU()\n",
    "\n",
    "    def forward(self, x):\n",
    "        # Первый сверточный блок\n",
    "        x = self.relu(self.conv1(x))\n",
    "        x = self.pool(x)\n",
    "\n",
    "        # Второй сверточный блок\n",
    "        x = self.relu(self.conv2(x))\n",
    "        x = self.pool(x)\n",
    "\n",
    "        # Третий сверточный блок\n",
    "        x = self.relu(self.conv3(x))\n",
    "        x = self.pool(x)\n",
    "\n",
    "        # Преобразование для полносвязного слоя\n",
    "        x = x.view(-1, 128 * 3 * 3)\n",
    "\n",
    "        # Полносвязные слои\n",
    "        x = self.relu(self.fc1(x))\n",
    "        x = self.dropout(x)\n",
    "        x = self.fc2(x)\n",
    "\n",
    "        return x"
   ],
   "id": "41467b946c78be19",
   "outputs": [],
   "execution_count": 8
  },
  {
   "metadata": {
    "ExecuteTime": {
     "end_time": "2025-05-20T18:04:00.893688Z",
     "start_time": "2025-05-20T18:04:00.878827Z"
    }
   },
   "cell_type": "code",
   "source": [
    "# Создание модели\n",
    "device = torch.device(\"cuda:0\" if torch.cuda.is_available() else \"cpu\")\n",
    "model = FashionCNN().to(device)"
   ],
   "id": "740db5ea818e7fd2",
   "outputs": [],
   "execution_count": 9
  },
  {
   "metadata": {
    "ExecuteTime": {
     "end_time": "2025-05-20T18:04:00.946043Z",
     "start_time": "2025-05-20T18:04:00.936001Z"
    }
   },
   "cell_type": "code",
   "source": [
    "# Функция для обучения модели\n",
    "def train_model(model, train_loader, val_loader, criterion, optimizer, num_epochs=10):\n",
    "    train_losses = []\n",
    "    val_losses = []\n",
    "    val_accuracies = []\n",
    "\n",
    "    for epoch in range(num_epochs):\n",
    "        # Обучение\n",
    "        model.train()\n",
    "        running_loss = 0.0\n",
    "\n",
    "        for inputs, labels in train_loader:\n",
    "            inputs, labels = inputs.to(device), labels.to(device)\n",
    "\n",
    "            # Очищаем градиенты\n",
    "            optimizer.zero_grad()\n",
    "\n",
    "            # Прямой проход\n",
    "            outputs = model(inputs)\n",
    "            loss = criterion(outputs, labels)\n",
    "\n",
    "            # Обратный проход и оптимизация\n",
    "            loss.backward()\n",
    "            optimizer.step()\n",
    "\n",
    "            running_loss += loss.item() * inputs.size(0)\n",
    "\n",
    "        epoch_train_loss = running_loss / len(train_loader.dataset)\n",
    "        train_losses.append(epoch_train_loss)\n",
    "\n",
    "        # Валидация\n",
    "        model.eval()\n",
    "        running_loss = 0.0\n",
    "        correct = 0\n",
    "        total = 0\n",
    "\n",
    "        with torch.no_grad():\n",
    "            for inputs, labels in val_loader:\n",
    "                inputs, labels = inputs.to(device), labels.to(device)\n",
    "\n",
    "                # Прямой проход\n",
    "                outputs = model(inputs)\n",
    "                loss = criterion(outputs, labels)\n",
    "\n",
    "                running_loss += loss.item() * inputs.size(0)\n",
    "\n",
    "                # Вычисляем метрику accuracy\n",
    "                _, predicted = torch.max(outputs, 1)\n",
    "                total += labels.size(0)\n",
    "                correct += (predicted == labels).sum().item()\n",
    "\n",
    "        epoch_val_loss = running_loss / len(val_loader.dataset)\n",
    "        epoch_val_accuracy = correct / total\n",
    "\n",
    "        val_losses.append(epoch_val_loss)\n",
    "        val_accuracies.append(epoch_val_accuracy)\n",
    "\n",
    "        print(f\"Эпоха {epoch+1}/{num_epochs}: \"\n",
    "              f\"Потери обучения: {epoch_train_loss:.4f}, \"\n",
    "              f\"Потери валидации: {epoch_val_loss:.4f}, \"\n",
    "              f\"Точность: {epoch_val_accuracy:.4f}\")\n",
    "\n",
    "    return train_losses, val_losses, val_accuracies"
   ],
   "id": "7bcef4e9f2d9251d",
   "outputs": [],
   "execution_count": 10
  },
  {
   "metadata": {
    "ExecuteTime": {
     "end_time": "2025-05-20T18:04:02.046429Z",
     "start_time": "2025-05-20T18:04:00.987077Z"
    }
   },
   "cell_type": "code",
   "source": [
    "# Настройка оптимизатора и функции потерь\n",
    "criterion = nn.CrossEntropyLoss()\n",
    "optimizer = optim.Adam(model.parameters(), lr=0.001)"
   ],
   "id": "5ba4e12f035e4384",
   "outputs": [],
   "execution_count": 11
  },
  {
   "metadata": {
    "ExecuteTime": {
     "end_time": "2025-05-20T18:06:22.629942Z",
     "start_time": "2025-05-20T18:04:02.101607Z"
    }
   },
   "cell_type": "code",
   "source": [
    "# Обучение модели\n",
    "num_epochs = 15\n",
    "train_losses, val_losses, val_accuracies = train_model(model, train_loader, val_loader, criterion, optimizer, num_epochs)\n"
   ],
   "id": "17c0d1a02c276d56",
   "outputs": [
    {
     "name": "stdout",
     "output_type": "stream",
     "text": [
      "Эпоха 1/15: Потери обучения: 0.8157, Потери валидации: 0.5360, Точность: 0.8055\n",
      "Эпоха 2/15: Потери обучения: 0.4925, Потери валидации: 0.4359, Точность: 0.8454\n",
      "Эпоха 3/15: Потери обучения: 0.3974, Потери валидации: 0.3892, Точность: 0.8592\n",
      "Эпоха 4/15: Потери обучения: 0.3377, Потери валидации: 0.3613, Точность: 0.8697\n",
      "Эпоха 5/15: Потери обучения: 0.3093, Потери валидации: 0.3561, Точность: 0.8756\n",
      "Эпоха 6/15: Потери обучения: 0.2708, Потери валидации: 0.3334, Точность: 0.8870\n",
      "Эпоха 7/15: Потери обучения: 0.2538, Потери валидации: 0.3251, Точность: 0.8850\n",
      "Эпоха 8/15: Потери обучения: 0.2331, Потери валидации: 0.3307, Точность: 0.8888\n",
      "Эпоха 9/15: Потери обучения: 0.2133, Потери валидации: 0.3218, Точность: 0.8920\n",
      "Эпоха 10/15: Потери обучения: 0.1911, Потери валидации: 0.3186, Точность: 0.8876\n",
      "Эпоха 11/15: Потери обучения: 0.1811, Потери валидации: 0.3477, Точность: 0.8879\n",
      "Эпоха 12/15: Потери обучения: 0.1606, Потери валидации: 0.3303, Точность: 0.8888\n",
      "Эпоха 13/15: Потери обучения: 0.1517, Потери валидации: 0.3522, Точность: 0.8903\n",
      "Эпоха 14/15: Потери обучения: 0.1306, Потери валидации: 0.3581, Точность: 0.8900\n",
      "Эпоха 15/15: Потери обучения: 0.1240, Потери валидации: 0.3557, Точность: 0.8888\n"
     ]
    }
   ],
   "execution_count": 12
  },
  {
   "metadata": {
    "ExecuteTime": {
     "end_time": "2025-05-20T18:06:22.909918Z",
     "start_time": "2025-05-20T18:06:22.711635Z"
    }
   },
   "cell_type": "code",
   "source": [
    "# Визуализация результатов обучения\n",
    "plt.figure(figsize=(12, 4))\n",
    "plt.subplot(1, 2, 1)\n",
    "plt.plot(range(1, num_epochs+1), train_losses, label='Обучение')\n",
    "plt.plot(range(1, num_epochs+1), val_losses, label='Валидация')\n",
    "plt.xlabel('Эпоха')\n",
    "plt.ylabel('Потери')\n",
    "plt.title('Потери при обучении и валидации')\n",
    "plt.legend()\n",
    "\n",
    "plt.subplot(1, 2, 2)\n",
    "plt.plot(range(1, num_epochs+1), val_accuracies)\n",
    "plt.xlabel('Эпоха')\n",
    "plt.ylabel('Точность')\n",
    "plt.title('Точность на валидационной выборке')\n",
    "plt.tight_layout()\n",
    "plt.show()"
   ],
   "id": "c75b33c497b9aea9",
   "outputs": [
    {
     "data": {
      "text/plain": [
       "<Figure size 1200x400 with 2 Axes>"
      ],
      "image/png": "[encoded data removed]"
     },
     "metadata": {},
     "output_type": "display_data"
    }
   ],
   "execution_count": 13
  },
  {
   "metadata": {
    "ExecuteTime": {
     "end_time": "2025-05-20T18:06:23.706638Z",
     "start_time": "2025-05-20T18:06:22.941628Z"
    }
   },
   "cell_type": "code",
   "source": [
    "# Оценка модели на валидационной выборке\n",
    "model.eval()\n",
    "y_pred = []\n",
    "y_true = []\n",
    "\n",
    "with torch.no_grad():\n",
    "    for inputs, labels in val_loader:\n",
    "        inputs, labels = inputs.to(device), labels.to(device)\n",
    "        outputs = model(inputs)\n",
    "        _, predicted = torch.max(outputs, 1)\n",
    "\n",
    "        y_pred.extend(predicted.cpu().numpy())\n",
    "        y_true.extend(labels.cpu().numpy())\n",
    "\n",
    "# Вычисление точности\n",
    "val_accuracy = accuracy_score(y_true, y_pred)\n",
    "print(f\"Точность на валидационной выборке: {val_accuracy:.4f}\")"
   ],
   "id": "74bdc83b4f94cd13",
   "outputs": [
    {
     "name": "stdout",
     "output_type": "stream",
     "text": [
      "Точность на валидационной выборке: 0.8888\n"
     ]
    }
   ],
   "execution_count": 14
  },
  {
   "metadata": {
    "ExecuteTime": {
     "end_time": "2025-05-20T18:06:25.557306Z",
     "start_time": "2025-05-20T18:06:23.729438Z"
    }
   },
   "cell_type": "code",
   "source": [
    "# Получение предсказаний для тестовой выборки\n",
    "model.eval()\n",
    "predictions = []\n",
    "\n",
    "with torch.no_grad():\n",
    "    for inputs in test_loader:\n",
    "        if not isinstance(inputs, tuple):\n",
    "            inputs = inputs.to(device)\n",
    "            outputs = model(inputs)\n",
    "            _, predicted = torch.max(outputs, 1)\n",
    "            predictions.extend(predicted.cpu().numpy())\n"
   ],
   "id": "83fbc2f88887da0b",
   "outputs": [],
   "execution_count": 15
  },
  {
   "metadata": {
    "ExecuteTime": {
     "end_time": "2025-05-20T18:06:25.590171Z",
     "start_time": "2025-05-20T18:06:25.579192Z"
    }
   },
   "cell_type": "code",
   "source": [
    "# Создание и сохранение файла с предсказаниями\n",
    "submission = pd.DataFrame({\n",
    "    'Id': test_data['Id'],\n",
    "    'label': predictions\n",
    "})\n",
    "submission.to_csv('fashion_mnist_submission.csv', index=False)"
   ],
   "id": "5cb4c8d573328181",
   "outputs": [],
   "execution_count": 16
  }
 ],
 "metadata": {
  "kernelspec": {
   "display_name": "Python 3",
   "language": "python",
   "name": "python3"
  },
  "language_info": {
   "codemirror_mode": {
    "name": "ipython",
    "version": 2
   },
   "file_extension": ".py",
   "mimetype": "text/x-python",
   "name": "python",
   "nbconvert_exporter": "python",
   "pygments_lexer": "ipython2",
   "version": "2.7.6"
  }
 },
 "nbformat": 4,
 "nbformat_minor": 5
}
